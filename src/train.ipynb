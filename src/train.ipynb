{
 "cells": [
  {
   "cell_type": "code",
   "execution_count": 5,
   "metadata": {},
   "outputs": [],
   "source": [
    "import torch\n",
    "import torchtext\n",
    "import torch.nn as nn\n",
    "import torch.optim as optim\n",
    "import pandas as pd\n",
    "import time\n",
    "import numpy as np\n",
    "from sklearn.metrics import accuracy_score\n",
    "from sklearn.model_selection import train_test_split"
   ]
  },
  {
   "cell_type": "code",
   "execution_count": 6,
   "metadata": {},
   "outputs": [],
   "source": [
    "def read_data():\n",
    "    df = pd.concat([pd.read_csv('../data/cleaned_0.csv'),\n",
    "                    pd.read_csv('../data/cleaned_1.csv')], ignore_index=True)\n",
    "    return df"
   ]
  },
  {
   "cell_type": "code",
   "execution_count": 7,
   "metadata": {},
   "outputs": [],
   "source": [
    "\"\"\" TOKENIZATION \"\"\"\n",
    "\n",
    "def tokenize(text):\n",
    "    return text.split(' ')"
   ]
  },
  {
   "cell_type": "code",
   "execution_count": 8,
   "metadata": {},
   "outputs": [],
   "source": [
    "\"\"\" PADDING \"\"\"\n",
    "\n",
    "def pad(tokens, max_len):\n",
    "    if (len(tokens) > max_len):\n",
    "        return tokens[:max_len]\n",
    "    return tokens + [''] * (max_len - len(tokens))"
   ]
  },
  {
   "cell_type": "code",
   "execution_count": 9,
   "metadata": {},
   "outputs": [],
   "source": [
    "\"\"\" GENERATE TOKENS \"\"\"\n",
    "\n",
    "def token_gen(text):\n",
    "    # create a generator to convert from tokens to ids\n",
    "    res = []\n",
    "    for sentence in text:\n",
    "        tokens = tokenize(sentence)\n",
    "        res.append(tokens)\n",
    "\n",
    "    return res"
   ]
  },
  {
   "cell_type": "code",
   "execution_count": 10,
   "metadata": {},
   "outputs": [],
   "source": [
    "\"\"\" BUILD VOCAB \"\"\"\n",
    "\n",
    "def build_vocab(token_list, max_tokens=2048):\n",
    "    vocab = dict()\n",
    "    for tokens in token_list:\n",
    "        for w in tokens:\n",
    "            if w in vocab:\n",
    "                vocab[w] += 1\n",
    "            else:\n",
    "                vocab[w] = 1\n",
    "\n",
    "    # print(\"Actual vocab size: \", len(vocab))\n",
    "    sorted_vocab = sorted(vocab.items(), key=lambda x: x[1], reverse=True)[\n",
    "        :max_tokens]\n",
    "\n",
    "    # print(\"sorted vocab: \", sorted_vocab[:20])\n",
    "    vocab = dict(sorted_vocab)\n",
    "    word_to_id = {w: i for i, w in enumerate(vocab.keys())}\n",
    "    return vocab, word_to_id"
   ]
  },
  {
   "cell_type": "code",
   "execution_count": 11,
   "metadata": {},
   "outputs": [],
   "source": [
    "\"\"\" TF-IDF\"\"\"\n",
    "\n",
    "from sklearn.decomposition import PCA\n",
    "\n",
    "\n",
    "def build_tfidf(token_list, vocab, word_to_id):\n",
    "    n_docs = len(token_list)\n",
    "    n_words = len(word_to_id)\n",
    "    tf = np.zeros((n_words, n_docs), dtype=np.float32)\n",
    "    count = np.zeros(n_words)\n",
    "    # idf = np.zeros(n_words, dtype=np.float32)\n",
    "    for i, tokens in enumerate(token_list):\n",
    "        new_count = np.zeros(n_words)\n",
    "        for w in tokens:\n",
    "            if (w in word_to_id):\n",
    "                id = word_to_id[w]\n",
    "                tf[id, i] += (1 / len(tokens))\n",
    "                if new_count[id] == 0:\n",
    "                    new_count[id] = 1\n",
    "        \n",
    "        count += new_count\n",
    "\n",
    "    idf = np.log10(n_docs / count)\n",
    "    tf_idf = tf * idf[:, np.newaxis]\n",
    "    n_components = 50\n",
    "    pca = PCA(n_components=n_components)\n",
    "\n",
    "    tf_idf = pca.fit_transform(tf_idf)\n",
    "    # lin = np.random.rand(n_docs, 100) / 10\n",
    "    # print(lin)\n",
    "    # tf_idf = tf_idf @ lin\n",
    "    return tf_idf"
   ]
  },
  {
   "cell_type": "code",
   "execution_count": 12,
   "metadata": {},
   "outputs": [],
   "source": [
    "def embed(token_list, tf_idf):\n",
    "    shape = token_list.shape\n",
    "    res = []\n",
    "\n",
    "    for i in range(shape[0]):\n",
    "        r = np.zeros(50, dtype=np.float32)\n",
    "        for j in range(shape[1]):\n",
    "            r += tf_idf[token_list[i, j]]\n",
    "        # r = r / shape[1]\n",
    "        res.append(r)\n",
    "\n",
    "    return torch.tensor(np.array(res), dtype=torch.float32)"
   ]
  },
  {
   "cell_type": "code",
   "execution_count": 49,
   "metadata": {},
   "outputs": [],
   "source": [
    "class RNN(nn.Module):\n",
    "    def __init__(self, input_size, hidden_size, output_size, embed, tf_idf):\n",
    "        super(RNN, self).__init__()\n",
    "        self.embed = embed\n",
    "        self.tf_idf = tf_idf  \n",
    "        self.rnn = nn.LSTM(input_size, hidden_size, batch_first=True)\n",
    "        self.fc = nn.Linear(hidden_size, output_size)\n",
    "        self.sigmoid = nn.Sigmoid()\n",
    "\n",
    "    def forward(self, tokens):\n",
    "        embedded = embed(tokens, tf_idf)\n",
    "#         embedded = torch.tensor(tokens, dtype=torch.float32)\n",
    "#         print(\"embedded shape: \", embedded.shape)\n",
    "#         print(\"Embedded[0]: \", [i for i in embedded[0] if i != 0])\n",
    "        out, _ = self.rnn(embedded)\n",
    "        out = self.fc(out)\n",
    "        out = out.reshape(-1)\n",
    "        out = self.sigmoid(out)\n",
    "        return out"
   ]
  },
  {
   "cell_type": "code",
   "execution_count": 14,
   "metadata": {},
   "outputs": [],
   "source": [
    "df = read_data()\n",
    "data = list(df['text'])\n",
    "\n",
    "# list of lists of tokens"
   ]
  },
  {
   "cell_type": "code",
   "execution_count": 15,
   "metadata": {},
   "outputs": [],
   "source": [
    "token_list = token_gen(data)\n",
    "\n",
    "for i in range(len(token_list)):\n",
    "    token_list[i] = pad(token_list[i], 50)\n",
    "\n",
    "vocab, word_to_id = build_vocab(token_list, 5000)"
   ]
  },
  {
   "cell_type": "code",
   "execution_count": 40,
   "metadata": {},
   "outputs": [],
   "source": [
    "tf_idf = build_tfidf(token_list, vocab, word_to_id)"
   ]
  },
  {
   "cell_type": "code",
   "execution_count": 41,
   "metadata": {},
   "outputs": [
    {
     "name": "stdout",
     "output_type": "stream",
     "text": [
      "[ 0.13905981  0.02052438 -0.04059468 -0.08749468  0.10230517 -0.15110742\n",
      " -0.16996091 -0.18767006 -0.11102662 -0.20845773 -0.10990461 -0.07914307\n",
      " -0.03479407 -0.08162923  0.21401234  0.07425726 -0.12741337  0.04371809\n",
      "  0.03676002 -0.04663432 -0.12880674  0.08625409  0.04971879  0.07089673\n",
      " -0.03249509  0.01051387  0.0031495  -0.03120289  0.04465434  0.04506883\n",
      " -0.03608802  0.02562635  0.02029967  0.0128169   0.01421497 -0.0358487\n",
      " -0.01306468  0.00407379  0.01967975  0.00964356  0.01437023 -0.03711509\n",
      "  0.02000143  0.02619302 -0.01424058  0.00546649  0.00167438 -0.00697174\n",
      " -0.0030188   0.02105458]\n"
     ]
    }
   ],
   "source": [
    "print(tf_idf[10])"
   ]
  },
  {
   "cell_type": "code",
   "execution_count": 18,
   "metadata": {},
   "outputs": [],
   "source": [
    "X = []\n",
    "y = torch.tensor(df['label'].values, dtype=torch.float32, requires_grad=False)\n",
    "\n",
    "for i in range(len(token_list)):\n",
    "    X.append([word_to_id[w] if w in word_to_id else 0 for w in token_list[i]])\n",
    "\n",
    "X = np.array(X)\n",
    "\n",
    "train_X, valid_X, train_y, valid_y = train_test_split(X, y, train_size=0.7, shuffle=True)"
   ]
  },
  {
   "cell_type": "code",
   "execution_count": 19,
   "metadata": {},
   "outputs": [],
   "source": [
    "torch.set_printoptions(threshold=torch.inf)\n",
    "np.set_printoptions(threshold=np.inf)"
   ]
  },
  {
   "cell_type": "code",
   "execution_count": 139,
   "metadata": {},
   "outputs": [
    {
     "name": "stdout",
     "output_type": "stream",
     "text": [
      "0.5835010060362174\n"
     ]
    }
   ],
   "source": [
    "model = RNN(input_size=50, hidden_size=128,\n",
    "                output_size=1, embed=embed, tf_idf=tf_idf)\n",
    "\n",
    "def train():\n",
    "    optimizer = optim.Adam(model.parameters(), lr=0.005)\n",
    "    loss_fn = nn.BCELoss()\n",
    "\n",
    "    epochs = 400\n",
    "\n",
    "    accuracies = []\n",
    "\n",
    "    for epoch in range(epochs):\n",
    "        optimizer.zero_grad()\n",
    "        output = model(train_X)\n",
    "        loss = loss_fn(output, train_y)\n",
    "        loss.backward()\n",
    "        optimizer.step()\n",
    "#         optimizer.zero_grad()\n",
    "#         output = model(train_X)\n",
    "#         loss = loss_fn(output, train_y)\n",
    "        accuracies.append(accuracy_score(np.round(output.detach().reshape(-1)), train_y))\n",
    "#         loss.backward()\n",
    "#         optimizer.step()\n",
    "\n",
    "    predict = model(valid_X).detach().reshape(-1)\n",
    "    # print(predict)\n",
    "    # print(valid_y)\n",
    "    print(accuracy_score(np.round(predict), valid_y))\n",
    "    return predict, valid_y, accuracies\n",
    "\n",
    "pred, val, accuracies = train()"
   ]
  },
  {
   "cell_type": "code",
   "execution_count": 44,
   "metadata": {},
   "outputs": [
    {
     "name": "stdout",
     "output_type": "stream",
     "text": [
      "tensor([0.0998, 0.2132, 0.2833, 0.3550, 0.3884, 0.4237, 0.4441, 0.4612, 0.4742,\n",
      "        0.4231, 0.4331, 0.4052, 0.4268, 0.4447, 0.4354, 0.4512, 0.4528, 0.4879,\n",
      "        0.4840, 0.4912, 0.4938, 0.4889, 0.4884, 0.4898, 0.4683, 0.4713, 0.4590,\n",
      "        0.4492, 0.4441, 0.4493, 0.4929, 0.4990, 0.5040, 0.4901, 0.4257, 0.4265,\n",
      "        0.4022, 0.4251, 0.4284, 0.4492, 0.4637, 0.4585, 0.4631, 0.4164, 0.4327,\n",
      "        0.4299, 0.4481, 0.4646, 0.4887, 0.4804, 0.4864, 0.5190, 0.5170, 0.4982,\n",
      "        0.4946, 0.4799, 0.4815, 0.4902, 0.4755, 0.4667, 0.4776, 0.4772, 0.4527,\n",
      "        0.4760, 0.4706, 0.4685, 0.4518, 0.4712, 0.4954, 0.4956, 0.4898, 0.4911,\n",
      "        0.4694, 0.4714, 0.4497, 0.4748, 0.4768, 0.4778, 0.4922, 0.4813, 0.4856,\n",
      "        0.4674, 0.4548, 0.4622, 0.4608, 0.4709, 0.4754, 0.4915, 0.4905, 0.4698,\n",
      "        0.4793, 0.4816, 0.4146, 0.4324, 0.4186, 0.3994, 0.4195, 0.4244, 0.4389,\n",
      "        0.4549])\n"
     ]
    }
   ],
   "source": [
    "print(pred[:100])   "
   ]
  },
  {
   "cell_type": "code",
   "execution_count": 177,
   "metadata": {},
   "outputs": [
    {
     "name": "stdout",
     "output_type": "stream",
     "text": [
      "tensor([1., 0., 0., 0., 1., 0., 1., 1., 1., 1., 0., 0., 1., 1., 1., 0., 1., 1.,\n",
      "        1., 1., 0., 1., 0., 0., 1., 1., 0., 1., 1., 1., 1., 0., 1., 1., 0., 0.,\n",
      "        0., 0., 0., 1., 0., 0., 1., 1., 1., 0., 1., 0., 1., 0., 1., 0., 0., 1.,\n",
      "        0., 1., 1., 1., 0., 1., 0., 1., 1., 0., 0., 1., 0., 1., 0., 0., 1., 0.,\n",
      "        1., 1., 1., 0., 0., 0., 1., 0., 0., 1., 1., 1., 1., 1., 1., 0., 1., 1.,\n",
      "        1., 1., 0., 1., 1., 0., 0., 1., 1., 1.])\n"
     ]
    }
   ],
   "source": [
    "print(val[:100])"
   ]
  },
  {
   "cell_type": "code",
   "execution_count": 140,
   "metadata": {},
   "outputs": [
    {
     "data": {
      "text/plain": [
       "[<matplotlib.lines.Line2D at 0x19941e890>]"
      ]
     },
     "execution_count": 140,
     "metadata": {},
     "output_type": "execute_result"
    },
    {
     "data": {
      "image/png": "[encoded data removed]",
      "text/plain": [
       "<Figure size 640x480 with 1 Axes>"
      ]
     },
     "metadata": {},
     "output_type": "display_data"
    }
   ],
   "source": [
    "import matplotlib.pyplot as plt\n",
    "%matplotlib inline\n",
    "\n",
    "plt.plot(range(len(accuracies)), accuracies, color=\"skyblue\")"
   ]
  },
  {
   "cell_type": "code",
   "execution_count": 79,
   "metadata": {},
   "outputs": [],
   "source": [
    "def predict(text):\n",
    "    tokens = text.split(' ')\n",
    "    tokens = pad(tokens, 50)\n",
    "    tokens = np.array([[word_to_id[w] if w in word_to_id else 0 for w in tokens]])\n",
    "    return \"Positive\" if model(tokens)[0] > 0.5 else \"Negative\""
   ]
  },
  {
   "cell_type": "code",
   "execution_count": 144,
   "metadata": {},
   "outputs": [
    {
     "name": "stdout",
     "output_type": "stream",
     "text": [
      "1 Positive\n",
      "2 Negative\n",
      "3 Negative\n",
      "4 Negative\n",
      "5 Positive\n",
      "6 Positive\n",
      "7 Negative\n",
      "8 Negative\n",
      "9 Positive\n",
      "10 Positive\n",
      "11 Negative\n",
      "12 Negative\n",
      "13 Negative\n",
      "14 Negative\n",
      "15 Positive\n",
      "16 Positive\n",
      "17 Positive\n",
      "18 Positive\n",
      "19 Positive\n",
      "20 Negative\n"
     ]
    }
   ],
   "source": [
    "print(1, predict(\"it's good to see you\"))\n",
    "print(2, predict(\"i hate this job\"))\n",
    "print(3, predict(\"bad luck\"))\n",
    "print(4, predict(\"get out\"))\n",
    "print(5, predict(\"you are funny\"))\n",
    "print(6, predict(\"nice try, man\"))\n",
    "print(7, predict(\"how bad you are\"))\n",
    "print(8, predict(\"this is so bad\"))\n",
    "print(9, predict(\"good luck\"))\n",
    "print(10, predict(\"i love my family\"))\n",
    "print(11, predict(\"i hate everyone\"))\n",
    "print(12, predict(\"what the hell am i watching\"))\n",
    "print(13, predict(\"worst thing ever\"))\n",
    "print(14, predict(\"give me the bear or im gonna kill you\"))\n",
    "print(15, predict(\"lol what a nice day to work\"))\n",
    "print(16, predict(\"good morning\"))\n",
    "print(17, predict(\"love the smell of a freshday\"))\n",
    "print(18, predict(\"wanna try some candies\"))\n",
    "print(19, predict(\"i wanna suicide\"))\n",
    "print(20, predict(\"i cant take it anymore\"))"
   ]
  },
  {
   "cell_type": "code",
   "execution_count": 142,
   "metadata": {},
   "outputs": [],
   "source": [
    "torch.save(model, 'text_classification.pth')"
   ]
  }
 ],
 "metadata": {
  "kernelspec": {
   "display_name": "Python 3 (ipykernel)",
   "language": "python",
   "name": "python3"
  },
  "language_info": {
   "codemirror_mode": {
    "name": "ipython",
    "version": 3
   },
   "file_extension": ".py",
   "mimetype": "text/x-python",
   "name": "python",
   "nbconvert_exporter": "python",
   "pygments_lexer": "ipython3",
   "version": "3.11.0"
  }
 },
 "nbformat": 4,
 "nbformat_minor": 2
}
